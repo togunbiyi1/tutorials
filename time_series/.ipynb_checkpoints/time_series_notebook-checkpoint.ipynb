{
 "cells": [
  {
   "cell_type": "code",
   "execution_count": 1,
   "metadata": {
    "collapsed": false
   },
   "outputs": [
    {
     "name": "stderr",
     "output_type": "stream",
     "text": [
      "Using TensorFlow backend.\n"
     ]
    }
   ],
   "source": [
    "import pandas as pd\n",
    "import numpy as np\n",
    "%matplotlib inline\n",
    "import matplotlib.pyplot as plt\n",
    "from sklearn.preprocessing import MinMaxScaler\n",
    "from sklearn.metrics import r2_score\n",
    "from keras.models import Sequential\n",
    "from keras.layers import Dense\n",
    "from keras.callbacks import EarlyStopping\n",
    "from keras.optimizers import Adam\n",
    "from keras.layers import LSTM"
   ]
  },
  {
   "cell_type": "code",
   "execution_count": 5,
   "metadata": {
    "collapsed": false
   },
   "outputs": [],
   "source": [
    "df = pd.read_csv(\"Data/vixcurrent.csv\",skiprows=1)"
   ]
  },
  {
   "cell_type": "code",
   "execution_count": 8,
   "metadata": {
    "collapsed": false
   },
   "outputs": [
    {
     "data": {
      "text/html": [
       "<div>\n",
       "<style scoped>\n",
       "    .dataframe tbody tr th:only-of-type {\n",
       "        vertical-align: middle;\n",
       "    }\n",
       "\n",
       "    .dataframe tbody tr th {\n",
       "        vertical-align: top;\n",
       "    }\n",
       "\n",
       "    .dataframe thead th {\n",
       "        text-align: right;\n",
       "    }\n",
       "</style>\n",
       "<table border=\"1\" class=\"dataframe\">\n",
       "  <thead>\n",
       "    <tr style=\"text-align: right;\">\n",
       "      <th></th>\n",
       "      <th>Date</th>\n",
       "      <th>VIX Open</th>\n",
       "      <th>VIX High</th>\n",
       "      <th>VIX Low</th>\n",
       "      <th>VIX Close</th>\n",
       "    </tr>\n",
       "  </thead>\n",
       "  <tbody>\n",
       "    <tr>\n",
       "      <th>0</th>\n",
       "      <td>1/2/2004</td>\n",
       "      <td>17.96</td>\n",
       "      <td>18.68</td>\n",
       "      <td>17.54</td>\n",
       "      <td>18.22</td>\n",
       "    </tr>\n",
       "    <tr>\n",
       "      <th>1</th>\n",
       "      <td>1/5/2004</td>\n",
       "      <td>18.45</td>\n",
       "      <td>18.49</td>\n",
       "      <td>17.44</td>\n",
       "      <td>17.49</td>\n",
       "    </tr>\n",
       "    <tr>\n",
       "      <th>2</th>\n",
       "      <td>1/6/2004</td>\n",
       "      <td>17.66</td>\n",
       "      <td>17.67</td>\n",
       "      <td>16.19</td>\n",
       "      <td>16.73</td>\n",
       "    </tr>\n",
       "    <tr>\n",
       "      <th>3</th>\n",
       "      <td>1/7/2004</td>\n",
       "      <td>16.72</td>\n",
       "      <td>16.75</td>\n",
       "      <td>15.50</td>\n",
       "      <td>15.50</td>\n",
       "    </tr>\n",
       "    <tr>\n",
       "      <th>4</th>\n",
       "      <td>1/8/2004</td>\n",
       "      <td>15.42</td>\n",
       "      <td>15.68</td>\n",
       "      <td>15.32</td>\n",
       "      <td>15.61</td>\n",
       "    </tr>\n",
       "  </tbody>\n",
       "</table>\n",
       "</div>"
      ],
      "text/plain": [
       "       Date  VIX Open  VIX High  VIX Low  VIX Close\n",
       "0  1/2/2004     17.96     18.68    17.54      18.22\n",
       "1  1/5/2004     18.45     18.49    17.44      17.49\n",
       "2  1/6/2004     17.66     17.67    16.19      16.73\n",
       "3  1/7/2004     16.72     16.75    15.50      15.50\n",
       "4  1/8/2004     15.42     15.68    15.32      15.61"
      ]
     },
     "execution_count": 8,
     "metadata": {},
     "output_type": "execute_result"
    }
   ],
   "source": [
    "df.head()"
   ]
  },
  {
   "cell_type": "code",
   "execution_count": 12,
   "metadata": {
    "collapsed": false
   },
   "outputs": [
    {
     "ename": "KeyError",
     "evalue": "\"['VIX Open' 'VIX High' 'VIX Low'] not found in axis\"",
     "output_type": "error",
     "traceback": [
      "\u001b[0;31m---------------------------------------------------------------------------\u001b[0m",
      "\u001b[0;31mKeyError\u001b[0m                                  Traceback (most recent call last)",
      "\u001b[0;32m<ipython-input-12-c9c0940ee1ff>\u001b[0m in \u001b[0;36m<module>\u001b[0;34m()\u001b[0m\n\u001b[0;32m----> 1\u001b[0;31m \u001b[0mdf\u001b[0m\u001b[0;34m.\u001b[0m\u001b[0mdrop\u001b[0m\u001b[0;34m(\u001b[0m\u001b[0;34m[\u001b[0m\u001b[0;34m'VIX Open'\u001b[0m\u001b[0;34m,\u001b[0m \u001b[0;34m'VIX High'\u001b[0m\u001b[0;34m,\u001b[0m \u001b[0;34m'VIX Low'\u001b[0m\u001b[0;34m]\u001b[0m\u001b[0;34m,\u001b[0m \u001b[0maxis\u001b[0m\u001b[0;34m=\u001b[0m\u001b[0;36m1\u001b[0m\u001b[0;34m,\u001b[0m \u001b[0minplace\u001b[0m\u001b[0;34m=\u001b[0m\u001b[0mTrue\u001b[0m\u001b[0;34m)\u001b[0m\u001b[0;34m\u001b[0m\u001b[0m\n\u001b[0m\u001b[1;32m      2\u001b[0m \u001b[0mdf\u001b[0m\u001b[0;34m[\u001b[0m\u001b[0;34m'Date'\u001b[0m\u001b[0;34m]\u001b[0m \u001b[0;34m=\u001b[0m \u001b[0mpd\u001b[0m\u001b[0;34m.\u001b[0m\u001b[0mto_datetime\u001b[0m\u001b[0;34m(\u001b[0m\u001b[0mdf\u001b[0m\u001b[0;34m[\u001b[0m\u001b[0;34m'Date'\u001b[0m\u001b[0;34m]\u001b[0m\u001b[0;34m)\u001b[0m\u001b[0;34m\u001b[0m\u001b[0m\n\u001b[1;32m      3\u001b[0m \u001b[0mdf\u001b[0m \u001b[0;34m=\u001b[0m \u001b[0mdf\u001b[0m\u001b[0;34m.\u001b[0m\u001b[0mset_index\u001b[0m\u001b[0;34m(\u001b[0m\u001b[0;34m[\u001b[0m\u001b[0;34m'Date'\u001b[0m\u001b[0;34m]\u001b[0m\u001b[0;34m,\u001b[0m \u001b[0mdrop\u001b[0m\u001b[0;34m=\u001b[0m\u001b[0mTrue\u001b[0m\u001b[0;34m)\u001b[0m\u001b[0;34m\u001b[0m\u001b[0m\n\u001b[1;32m      4\u001b[0m \u001b[0mdf\u001b[0m\u001b[0;34m.\u001b[0m\u001b[0mhead\u001b[0m\u001b[0;34m(\u001b[0m\u001b[0;36m10\u001b[0m\u001b[0;34m)\u001b[0m\u001b[0;34m\u001b[0m\u001b[0m\n",
      "\u001b[0;32m/Users/tunjiogunbiyi/anaconda/envs/rnnlm/lib/python2.7/site-packages/pandas/core/frame.pyc\u001b[0m in \u001b[0;36mdrop\u001b[0;34m(self, labels, axis, index, columns, level, inplace, errors)\u001b[0m\n\u001b[1;32m   3695\u001b[0m                                            \u001b[0mindex\u001b[0m\u001b[0;34m=\u001b[0m\u001b[0mindex\u001b[0m\u001b[0;34m,\u001b[0m \u001b[0mcolumns\u001b[0m\u001b[0;34m=\u001b[0m\u001b[0mcolumns\u001b[0m\u001b[0;34m,\u001b[0m\u001b[0;34m\u001b[0m\u001b[0m\n\u001b[1;32m   3696\u001b[0m                                            \u001b[0mlevel\u001b[0m\u001b[0;34m=\u001b[0m\u001b[0mlevel\u001b[0m\u001b[0;34m,\u001b[0m \u001b[0minplace\u001b[0m\u001b[0;34m=\u001b[0m\u001b[0minplace\u001b[0m\u001b[0;34m,\u001b[0m\u001b[0;34m\u001b[0m\u001b[0m\n\u001b[0;32m-> 3697\u001b[0;31m                                            errors=errors)\n\u001b[0m\u001b[1;32m   3698\u001b[0m \u001b[0;34m\u001b[0m\u001b[0m\n\u001b[1;32m   3699\u001b[0m     @rewrite_axis_style_signature('mapper', [('copy', True),\n",
      "\u001b[0;32m/Users/tunjiogunbiyi/anaconda/envs/rnnlm/lib/python2.7/site-packages/pandas/core/generic.pyc\u001b[0m in \u001b[0;36mdrop\u001b[0;34m(self, labels, axis, index, columns, level, inplace, errors)\u001b[0m\n\u001b[1;32m   3109\u001b[0m         \u001b[0;32mfor\u001b[0m \u001b[0maxis\u001b[0m\u001b[0;34m,\u001b[0m \u001b[0mlabels\u001b[0m \u001b[0;32min\u001b[0m \u001b[0maxes\u001b[0m\u001b[0;34m.\u001b[0m\u001b[0mitems\u001b[0m\u001b[0;34m(\u001b[0m\u001b[0;34m)\u001b[0m\u001b[0;34m:\u001b[0m\u001b[0;34m\u001b[0m\u001b[0m\n\u001b[1;32m   3110\u001b[0m             \u001b[0;32mif\u001b[0m \u001b[0mlabels\u001b[0m \u001b[0;32mis\u001b[0m \u001b[0;32mnot\u001b[0m \u001b[0mNone\u001b[0m\u001b[0;34m:\u001b[0m\u001b[0;34m\u001b[0m\u001b[0m\n\u001b[0;32m-> 3111\u001b[0;31m                 \u001b[0mobj\u001b[0m \u001b[0;34m=\u001b[0m \u001b[0mobj\u001b[0m\u001b[0;34m.\u001b[0m\u001b[0m_drop_axis\u001b[0m\u001b[0;34m(\u001b[0m\u001b[0mlabels\u001b[0m\u001b[0;34m,\u001b[0m \u001b[0maxis\u001b[0m\u001b[0;34m,\u001b[0m \u001b[0mlevel\u001b[0m\u001b[0;34m=\u001b[0m\u001b[0mlevel\u001b[0m\u001b[0;34m,\u001b[0m \u001b[0merrors\u001b[0m\u001b[0;34m=\u001b[0m\u001b[0merrors\u001b[0m\u001b[0;34m)\u001b[0m\u001b[0;34m\u001b[0m\u001b[0m\n\u001b[0m\u001b[1;32m   3112\u001b[0m \u001b[0;34m\u001b[0m\u001b[0m\n\u001b[1;32m   3113\u001b[0m         \u001b[0;32mif\u001b[0m \u001b[0minplace\u001b[0m\u001b[0;34m:\u001b[0m\u001b[0;34m\u001b[0m\u001b[0m\n",
      "\u001b[0;32m/Users/tunjiogunbiyi/anaconda/envs/rnnlm/lib/python2.7/site-packages/pandas/core/generic.pyc\u001b[0m in \u001b[0;36m_drop_axis\u001b[0;34m(self, labels, axis, level, errors)\u001b[0m\n\u001b[1;32m   3141\u001b[0m                 \u001b[0mnew_axis\u001b[0m \u001b[0;34m=\u001b[0m \u001b[0maxis\u001b[0m\u001b[0;34m.\u001b[0m\u001b[0mdrop\u001b[0m\u001b[0;34m(\u001b[0m\u001b[0mlabels\u001b[0m\u001b[0;34m,\u001b[0m \u001b[0mlevel\u001b[0m\u001b[0;34m=\u001b[0m\u001b[0mlevel\u001b[0m\u001b[0;34m,\u001b[0m \u001b[0merrors\u001b[0m\u001b[0;34m=\u001b[0m\u001b[0merrors\u001b[0m\u001b[0;34m)\u001b[0m\u001b[0;34m\u001b[0m\u001b[0m\n\u001b[1;32m   3142\u001b[0m             \u001b[0;32melse\u001b[0m\u001b[0;34m:\u001b[0m\u001b[0;34m\u001b[0m\u001b[0m\n\u001b[0;32m-> 3143\u001b[0;31m                 \u001b[0mnew_axis\u001b[0m \u001b[0;34m=\u001b[0m \u001b[0maxis\u001b[0m\u001b[0;34m.\u001b[0m\u001b[0mdrop\u001b[0m\u001b[0;34m(\u001b[0m\u001b[0mlabels\u001b[0m\u001b[0;34m,\u001b[0m \u001b[0merrors\u001b[0m\u001b[0;34m=\u001b[0m\u001b[0merrors\u001b[0m\u001b[0;34m)\u001b[0m\u001b[0;34m\u001b[0m\u001b[0m\n\u001b[0m\u001b[1;32m   3144\u001b[0m             \u001b[0mresult\u001b[0m \u001b[0;34m=\u001b[0m \u001b[0mself\u001b[0m\u001b[0;34m.\u001b[0m\u001b[0mreindex\u001b[0m\u001b[0;34m(\u001b[0m\u001b[0;34m**\u001b[0m\u001b[0;34m{\u001b[0m\u001b[0maxis_name\u001b[0m\u001b[0;34m:\u001b[0m \u001b[0mnew_axis\u001b[0m\u001b[0;34m}\u001b[0m\u001b[0;34m)\u001b[0m\u001b[0;34m\u001b[0m\u001b[0m\n\u001b[1;32m   3145\u001b[0m \u001b[0;34m\u001b[0m\u001b[0m\n",
      "\u001b[0;32m/Users/tunjiogunbiyi/anaconda/envs/rnnlm/lib/python2.7/site-packages/pandas/core/indexes/base.pyc\u001b[0m in \u001b[0;36mdrop\u001b[0;34m(self, labels, errors)\u001b[0m\n\u001b[1;32m   4402\u001b[0m             \u001b[0;32mif\u001b[0m \u001b[0merrors\u001b[0m \u001b[0;34m!=\u001b[0m \u001b[0;34m'ignore'\u001b[0m\u001b[0;34m:\u001b[0m\u001b[0;34m\u001b[0m\u001b[0m\n\u001b[1;32m   4403\u001b[0m                 raise KeyError(\n\u001b[0;32m-> 4404\u001b[0;31m                     '{} not found in axis'.format(labels[mask]))\n\u001b[0m\u001b[1;32m   4405\u001b[0m             \u001b[0mindexer\u001b[0m \u001b[0;34m=\u001b[0m \u001b[0mindexer\u001b[0m\u001b[0;34m[\u001b[0m\u001b[0;34m~\u001b[0m\u001b[0mmask\u001b[0m\u001b[0;34m]\u001b[0m\u001b[0;34m\u001b[0m\u001b[0m\n\u001b[1;32m   4406\u001b[0m         \u001b[0;32mreturn\u001b[0m \u001b[0mself\u001b[0m\u001b[0;34m.\u001b[0m\u001b[0mdelete\u001b[0m\u001b[0;34m(\u001b[0m\u001b[0mindexer\u001b[0m\u001b[0;34m)\u001b[0m\u001b[0;34m\u001b[0m\u001b[0m\n",
      "\u001b[0;31mKeyError\u001b[0m: \"['VIX Open' 'VIX High' 'VIX Low'] not found in axis\""
     ]
    }
   ],
   "source": [
    "df.drop(['VIX Open', 'VIX High', 'VIX Low'], axis=1, inplace=True)\n",
    "df['Date'] = pd.to_datetime(df['Date'])\n",
    "df = df.set_index(['Date'], drop=True)\n",
    "df.head(10)"
   ]
  },
  {
   "cell_type": "code",
   "execution_count": 15,
   "metadata": {
    "collapsed": false
   },
   "outputs": [
    {
     "data": {
      "text/html": [
       "<div>\n",
       "<style scoped>\n",
       "    .dataframe tbody tr th:only-of-type {\n",
       "        vertical-align: middle;\n",
       "    }\n",
       "\n",
       "    .dataframe tbody tr th {\n",
       "        vertical-align: top;\n",
       "    }\n",
       "\n",
       "    .dataframe thead th {\n",
       "        text-align: right;\n",
       "    }\n",
       "</style>\n",
       "<table border=\"1\" class=\"dataframe\">\n",
       "  <thead>\n",
       "    <tr style=\"text-align: right;\">\n",
       "      <th></th>\n",
       "      <th>Adj Close</th>\n",
       "    </tr>\n",
       "    <tr>\n",
       "      <th>Date</th>\n",
       "      <th></th>\n",
       "    </tr>\n",
       "  </thead>\n",
       "  <tbody>\n",
       "    <tr>\n",
       "      <th>2004-01-02</th>\n",
       "      <td>18.22</td>\n",
       "    </tr>\n",
       "    <tr>\n",
       "      <th>2004-01-05</th>\n",
       "      <td>17.49</td>\n",
       "    </tr>\n",
       "    <tr>\n",
       "      <th>2004-01-06</th>\n",
       "      <td>16.73</td>\n",
       "    </tr>\n",
       "    <tr>\n",
       "      <th>2004-01-07</th>\n",
       "      <td>15.50</td>\n",
       "    </tr>\n",
       "    <tr>\n",
       "      <th>2004-01-08</th>\n",
       "      <td>15.61</td>\n",
       "    </tr>\n",
       "  </tbody>\n",
       "</table>\n",
       "</div>"
      ],
      "text/plain": [
       "            Adj Close\n",
       "Date                 \n",
       "2004-01-02      18.22\n",
       "2004-01-05      17.49\n",
       "2004-01-06      16.73\n",
       "2004-01-07      15.50\n",
       "2004-01-08      15.61"
      ]
     },
     "execution_count": 15,
     "metadata": {},
     "output_type": "execute_result"
    }
   ],
   "source": [
    "df.rename(columns={'VIX Close':'Adj Close'}, inplace=True)\n",
    "df.head()"
   ]
  },
  {
   "cell_type": "code",
   "execution_count": 16,
   "metadata": {
    "collapsed": false
   },
   "outputs": [
    {
     "data": {
      "text/plain": [
       "<matplotlib.axes._subplots.AxesSubplot at 0x12923e250>"
      ]
     },
     "execution_count": 16,
     "metadata": {},
     "output_type": "execute_result"
    },
    {
     "data": {
      "image/png": "[encoded data removed]",
      "text/plain": [
       "<matplotlib.figure.Figure at 0x1292308d0>"
      ]
     },
     "metadata": {},
     "output_type": "display_data"
    }
   ],
   "source": [
    "plt.figure(figsize=(10, 6))\n",
    "df['Adj Close'].plot()"
   ]
  },
  {
   "cell_type": "code",
   "execution_count": 17,
   "metadata": {
    "collapsed": false
   },
   "outputs": [
    {
     "data": {
      "image/png": "[encoded data removed]",
      "text/plain": [
       "<matplotlib.figure.Figure at 0x1292db190>"
      ]
     },
     "metadata": {},
     "output_type": "display_data"
    }
   ],
   "source": [
    "split_date = pd.Timestamp('2018-01-01')\n",
    "df =  df['Adj Close']\n",
    "train = df.loc[:split_date]\n",
    "test = df.loc[split_date:]\n",
    "plt.figure(figsize=(10, 6))\n",
    "ax = train.plot()\n",
    "test.plot(ax=ax)\n",
    "plt.legend(['train', 'test']);"
   ]
  },
  {
   "cell_type": "code",
   "execution_count": 23,
   "metadata": {
    "collapsed": false
   },
   "outputs": [
    {
     "data": {
      "text/plain": [
       "Date\n",
       "2004-01-02    18.22\n",
       "2004-01-05    17.49\n",
       "2004-01-06    16.73\n",
       "2004-01-07    15.50\n",
       "2004-01-08    15.61\n",
       "2004-01-09    16.75\n",
       "2004-01-12    16.82\n",
       "2004-01-13    18.04\n",
       "2004-01-14    16.75\n",
       "2004-01-15    15.56\n",
       "2004-01-16    15.00\n",
       "2004-01-20    15.21\n",
       "2004-01-21    14.34\n",
       "2004-01-22    14.71\n",
       "2004-01-23    14.84\n",
       "2004-01-26    14.55\n",
       "2004-01-27    15.35\n",
       "2004-01-28    16.78\n",
       "2004-01-29    17.14\n",
       "2004-01-30    16.63\n",
       "2004-02-02    17.11\n",
       "2004-02-03    17.34\n",
       "2004-02-04    17.87\n",
       "2004-02-05    17.71\n",
       "2004-02-06    16.00\n",
       "2004-02-09    16.39\n",
       "2004-02-10    15.94\n",
       "2004-02-11    15.39\n",
       "2004-02-12    15.31\n",
       "2004-02-13    15.58\n",
       "              ...  \n",
       "2019-02-15    14.91\n",
       "2019-02-19    14.88\n",
       "2019-02-20    14.02\n",
       "2019-02-21    14.46\n",
       "2019-02-22    13.51\n",
       "2019-02-25    14.85\n",
       "2019-02-26    15.17\n",
       "2019-02-27    14.70\n",
       "2019-02-28    14.78\n",
       "2019-03-01    13.57\n",
       "2019-03-04    14.63\n",
       "2019-03-05    14.74\n",
       "2019-03-06    15.74\n",
       "2019-03-07    16.59\n",
       "2019-03-08    16.05\n",
       "2019-03-11    14.33\n",
       "2019-03-12    13.77\n",
       "2019-03-13    13.41\n",
       "2019-03-14    13.50\n",
       "2019-03-15    12.88\n",
       "2019-03-18    13.10\n",
       "2019-03-19    13.56\n",
       "2019-03-20    13.91\n",
       "2019-03-21    13.63\n",
       "2019-03-22    16.48\n",
       "2019-03-25    16.33\n",
       "2019-03-26    14.68\n",
       "2019-03-27    15.15\n",
       "2019-03-28    14.43\n",
       "2019-03-29    13.71\n",
       "Name: Adj Close, Length: 3836, dtype: float64"
      ]
     },
     "execution_count": 23,
     "metadata": {},
     "output_type": "execute_result"
    }
   ],
   "source": [
    "df"
   ]
  },
  {
   "cell_type": "code",
   "execution_count": 34,
   "metadata": {
    "collapsed": false
   },
   "outputs": [
    {
     "name": "stderr",
     "output_type": "stream",
     "text": [
      "/Users/tunjiogunbiyi/anaconda/envs/rnnlm/lib/python2.7/site-packages/ipykernel/__main__.py:1: FutureWarning: Method .as_matrix will be removed in a future version. Use .values instead.\n",
      "  if __name__ == '__main__':\n"
     ]
    },
    {
     "data": {
      "text/plain": [
       "array([[18.22],\n",
       "       [17.49],\n",
       "       [16.73],\n",
       "       ...,\n",
       "       [10.47],\n",
       "       [10.18],\n",
       "       [11.04]])"
      ]
     },
     "execution_count": 34,
     "metadata": {},
     "output_type": "execute_result"
    }
   ],
   "source": [
    "train.as_matrix().reshape(-1, 1)"
   ]
  },
  {
   "cell_type": "code",
   "execution_count": 35,
   "metadata": {
    "collapsed": false,
    "scrolled": true
   },
   "outputs": [
    {
     "name": "stderr",
     "output_type": "stream",
     "text": [
      "/Users/tunjiogunbiyi/anaconda/envs/rnnlm/lib/python2.7/site-packages/ipykernel/__main__.py:2: FutureWarning: Method .as_matrix will be removed in a future version. Use .values instead.\n",
      "  from ipykernel import kernelapp as app\n"
     ]
    },
    {
     "ename": "ValueError",
     "evalue": "Expected 2D array, got 1D array instead:\narray=[ 9.77  9.15  9.22  9.22  9.52 10.08  9.82  9.88 10.16 11.66 11.91 12.22\n 11.27 11.03 11.1  11.47 11.58 11.08 13.84 14.79 13.54 13.47 17.31 37.32\n 29.98 27.73 33.46 29.06 25.61 24.97 19.26 19.13 19.46 20.6  20.02 18.72\n 16.49 15.8  18.59 19.85 22.47 19.59 18.73 18.36 17.76 16.54 14.64 15.78\n 16.35 17.23 16.59 15.8  19.02 18.2  17.86 23.34 24.87 21.03 22.5  22.87\n 19.97 23.62 21.1  20.06 18.94 21.49 21.77 20.47 20.24 18.49 17.41 16.56\n 15.25 15.6  15.96 16.88 16.34 18.02 17.84 16.24 15.41 15.93 15.49 15.97\n 15.9  14.77 14.75 14.71 13.42 13.23 12.65 12.93 14.63 13.42 13.43 13.42\n 13.08 13.22 12.58 12.53 13.22 17.02 14.94 15.43 13.46 12.74 12.4  11.64\n 12.13 12.18 12.35 12.34 12.94 12.12 11.98 12.31 13.35 12.79 14.64 13.77\n 17.33 15.92 17.91 16.85 16.09 15.6  16.14 14.97 13.37 12.69 12.64 13.63\n 12.58 12.18 12.83 12.06 12.1  12.87 12.86 12.62 12.41 12.29 12.14 13.03\n 14.26 12.83 13.15 12.19 11.64 11.27 10.93 10.85 11.27 13.16 14.78 13.31\n 14.64 13.45 12.64 12.49 12.86 12.25 12.41 11.99 12.16 12.5  12.25 13.53\n 12.86 13.16 13.91 14.65 14.88 14.16 13.22 13.14 12.37 12.07 13.68 12.79\n 11.75 11.8  11.68 12.2  12.42 12.89 12.41 12.12 12.   12.05 11.61 14.22\n 14.82 15.69 15.95 22.96 24.98 21.31 21.3  17.62 17.4  20.06 19.89 19.64\n 20.71 25.23 24.22 24.16 24.7  23.35 21.23 19.34 19.51 19.96 19.91 16.36\n 16.72 17.36 20.45 20.02 21.25 19.98 18.14 20.1  22.48 20.8  21.52 18.9\n 19.02 18.49 18.79 18.07 16.44 20.74 21.19 23.23 22.64 21.76 21.46 20.65\n 21.63 24.52 25.58 25.58 28.38 30.11 36.07 30.41 29.96 28.34 25.42 23.22\n 25.45 21.38 21.4  20.47 19.98 19.5  18.19 19.07 18.6  19.04 18.06 17.8\n 20.8  19.52 18.89 17.42 18.87 19.13 17.66 16.57 16.14 15.73 15.57 15.38\n 16.37 15.72 15.97 15.43 15.65 16.22 14.91 14.88 14.02 14.46 13.51 14.85\n 15.17 14.7  14.78 13.57 14.63 14.74 15.74 16.59 16.05 14.33 13.77 13.41\n 13.5  12.88 13.1  13.56 13.91 13.63 16.48 16.33 14.68 15.15 14.43 13.71].\nReshape your data either using array.reshape(-1, 1) if your data has a single feature or array.reshape(1, -1) if it contains a single sample.",
     "output_type": "error",
     "traceback": [
      "\u001b[0;31m---------------------------------------------------------------------------\u001b[0m",
      "\u001b[0;31mValueError\u001b[0m                                Traceback (most recent call last)",
      "\u001b[0;32m<ipython-input-35-836ac6759532>\u001b[0m in \u001b[0;36m<module>\u001b[0;34m()\u001b[0m\n\u001b[1;32m      1\u001b[0m \u001b[0mscaler\u001b[0m \u001b[0;34m=\u001b[0m \u001b[0mMinMaxScaler\u001b[0m\u001b[0;34m(\u001b[0m\u001b[0mfeature_range\u001b[0m\u001b[0;34m=\u001b[0m\u001b[0;34m(\u001b[0m\u001b[0;34m-\u001b[0m\u001b[0;36m1\u001b[0m\u001b[0;34m,\u001b[0m \u001b[0;36m1\u001b[0m\u001b[0;34m)\u001b[0m\u001b[0;34m)\u001b[0m\u001b[0;34m\u001b[0m\u001b[0m\n\u001b[1;32m      2\u001b[0m \u001b[0mtrain_sc\u001b[0m \u001b[0;34m=\u001b[0m \u001b[0mscaler\u001b[0m\u001b[0;34m.\u001b[0m\u001b[0mfit_transform\u001b[0m\u001b[0;34m(\u001b[0m\u001b[0mtrain\u001b[0m\u001b[0;34m.\u001b[0m\u001b[0mas_matrix\u001b[0m\u001b[0;34m(\u001b[0m\u001b[0;34m)\u001b[0m\u001b[0;34m.\u001b[0m\u001b[0mreshape\u001b[0m\u001b[0;34m(\u001b[0m\u001b[0;34m-\u001b[0m\u001b[0;36m1\u001b[0m\u001b[0;34m,\u001b[0m \u001b[0;36m1\u001b[0m\u001b[0;34m)\u001b[0m\u001b[0;34m)\u001b[0m\u001b[0;34m\u001b[0m\u001b[0m\n\u001b[0;32m----> 3\u001b[0;31m \u001b[0mtest_sc\u001b[0m \u001b[0;34m=\u001b[0m \u001b[0mscaler\u001b[0m\u001b[0;34m.\u001b[0m\u001b[0mtransform\u001b[0m\u001b[0;34m(\u001b[0m\u001b[0mtest\u001b[0m\u001b[0;34m)\u001b[0m\u001b[0;34m\u001b[0m\u001b[0m\n\u001b[0m",
      "\u001b[0;32m/Users/tunjiogunbiyi/anaconda/envs/rnnlm/lib/python2.7/site-packages/sklearn/preprocessing/data.pyc\u001b[0m in \u001b[0;36mtransform\u001b[0;34m(self, X)\u001b[0m\n\u001b[1;32m    383\u001b[0m \u001b[0;34m\u001b[0m\u001b[0m\n\u001b[1;32m    384\u001b[0m         X = check_array(X, copy=self.copy, dtype=FLOAT_DTYPES,\n\u001b[0;32m--> 385\u001b[0;31m                         force_all_finite=\"allow-nan\")\n\u001b[0m\u001b[1;32m    386\u001b[0m \u001b[0;34m\u001b[0m\u001b[0m\n\u001b[1;32m    387\u001b[0m         \u001b[0mX\u001b[0m \u001b[0;34m*=\u001b[0m \u001b[0mself\u001b[0m\u001b[0;34m.\u001b[0m\u001b[0mscale_\u001b[0m\u001b[0;34m\u001b[0m\u001b[0m\n",
      "\u001b[0;32m/Users/tunjiogunbiyi/anaconda/envs/rnnlm/lib/python2.7/site-packages/sklearn/utils/validation.pyc\u001b[0m in \u001b[0;36mcheck_array\u001b[0;34m(array, accept_sparse, accept_large_sparse, dtype, order, copy, force_all_finite, ensure_2d, allow_nd, ensure_min_samples, ensure_min_features, warn_on_dtype, estimator)\u001b[0m\n\u001b[1;32m    545\u001b[0m                     \u001b[0;34m\"Reshape your data either using array.reshape(-1, 1) if \"\u001b[0m\u001b[0;34m\u001b[0m\u001b[0m\n\u001b[1;32m    546\u001b[0m                     \u001b[0;34m\"your data has a single feature or array.reshape(1, -1) \"\u001b[0m\u001b[0;34m\u001b[0m\u001b[0m\n\u001b[0;32m--> 547\u001b[0;31m                     \"if it contains a single sample.\".format(array))\n\u001b[0m\u001b[1;32m    548\u001b[0m \u001b[0;34m\u001b[0m\u001b[0m\n\u001b[1;32m    549\u001b[0m         \u001b[0;31m# in the future np.flexible dtypes will be handled like object dtypes\u001b[0m\u001b[0;34m\u001b[0m\u001b[0;34m\u001b[0m\u001b[0m\n",
      "\u001b[0;31mValueError\u001b[0m: Expected 2D array, got 1D array instead:\narray=[ 9.77  9.15  9.22  9.22  9.52 10.08  9.82  9.88 10.16 11.66 11.91 12.22\n 11.27 11.03 11.1  11.47 11.58 11.08 13.84 14.79 13.54 13.47 17.31 37.32\n 29.98 27.73 33.46 29.06 25.61 24.97 19.26 19.13 19.46 20.6  20.02 18.72\n 16.49 15.8  18.59 19.85 22.47 19.59 18.73 18.36 17.76 16.54 14.64 15.78\n 16.35 17.23 16.59 15.8  19.02 18.2  17.86 23.34 24.87 21.03 22.5  22.87\n 19.97 23.62 21.1  20.06 18.94 21.49 21.77 20.47 20.24 18.49 17.41 16.56\n 15.25 15.6  15.96 16.88 16.34 18.02 17.84 16.24 15.41 15.93 15.49 15.97\n 15.9  14.77 14.75 14.71 13.42 13.23 12.65 12.93 14.63 13.42 13.43 13.42\n 13.08 13.22 12.58 12.53 13.22 17.02 14.94 15.43 13.46 12.74 12.4  11.64\n 12.13 12.18 12.35 12.34 12.94 12.12 11.98 12.31 13.35 12.79 14.64 13.77\n 17.33 15.92 17.91 16.85 16.09 15.6  16.14 14.97 13.37 12.69 12.64 13.63\n 12.58 12.18 12.83 12.06 12.1  12.87 12.86 12.62 12.41 12.29 12.14 13.03\n 14.26 12.83 13.15 12.19 11.64 11.27 10.93 10.85 11.27 13.16 14.78 13.31\n 14.64 13.45 12.64 12.49 12.86 12.25 12.41 11.99 12.16 12.5  12.25 13.53\n 12.86 13.16 13.91 14.65 14.88 14.16 13.22 13.14 12.37 12.07 13.68 12.79\n 11.75 11.8  11.68 12.2  12.42 12.89 12.41 12.12 12.   12.05 11.61 14.22\n 14.82 15.69 15.95 22.96 24.98 21.31 21.3  17.62 17.4  20.06 19.89 19.64\n 20.71 25.23 24.22 24.16 24.7  23.35 21.23 19.34 19.51 19.96 19.91 16.36\n 16.72 17.36 20.45 20.02 21.25 19.98 18.14 20.1  22.48 20.8  21.52 18.9\n 19.02 18.49 18.79 18.07 16.44 20.74 21.19 23.23 22.64 21.76 21.46 20.65\n 21.63 24.52 25.58 25.58 28.38 30.11 36.07 30.41 29.96 28.34 25.42 23.22\n 25.45 21.38 21.4  20.47 19.98 19.5  18.19 19.07 18.6  19.04 18.06 17.8\n 20.8  19.52 18.89 17.42 18.87 19.13 17.66 16.57 16.14 15.73 15.57 15.38\n 16.37 15.72 15.97 15.43 15.65 16.22 14.91 14.88 14.02 14.46 13.51 14.85\n 15.17 14.7  14.78 13.57 14.63 14.74 15.74 16.59 16.05 14.33 13.77 13.41\n 13.5  12.88 13.1  13.56 13.91 13.63 16.48 16.33 14.68 15.15 14.43 13.71].\nReshape your data either using array.reshape(-1, 1) if your data has a single feature or array.reshape(1, -1) if it contains a single sample."
     ]
    }
   ],
   "source": [
    "scaler = MinMaxScaler(feature_range=(-1, 1))\n",
    "train_sc = scaler.fit_transform(train.as_matrix().reshape(-1, 1))\n",
    "test_sc = scaler.transform(test)"
   ]
  },
  {
   "cell_type": "code",
   "execution_count": null,
   "metadata": {
    "collapsed": true
   },
   "outputs": [],
   "source": []
  }
 ],
 "metadata": {
  "anaconda-cloud": {},
  "kernelspec": {
   "display_name": "Python [conda env:rnnlm]",
   "language": "python",
   "name": "conda-env-rnnlm-py"
  },
  "language_info": {
   "codemirror_mode": {
    "name": "ipython",
    "version": 2
   },
   "file_extension": ".py",
   "mimetype": "text/x-python",
   "name": "python",
   "nbconvert_exporter": "python",
   "pygments_lexer": "ipython2",
   "version": "2.7.13"
  }
 },
 "nbformat": 4,
 "nbformat_minor": 1
}
