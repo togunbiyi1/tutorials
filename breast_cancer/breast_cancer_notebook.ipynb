{
 "cells": [
  {
   "cell_type": "code",
   "execution_count": 1,
   "metadata": {
    "collapsed": true
   },
   "outputs": [],
   "source": [
    "# -*- coding: utf-8 -*-\n",
    "\"\"\"\n",
    "Created on Wed Aug 29 01:04:23 2018\n",
    "@author: 1022316\n",
    "\"\"\"\n",
    "\n",
    "#Classification of cancer dignosis\n",
    "#importing the libraries\n",
    "import numpy as np\n",
    "import matplotlib.pyplot as plt\n",
    "import pandas as pd\n",
    "from sklearn.preprocessing import LabelEncoder\n",
    "from sklearn.model_selection import train_test_split\n",
    "from sklearn.preprocessing import StandardScaler\n",
    "from sklearn.linear_model import LogisticRegression\n",
    "from sklearn.neighbors import KNeighborsClassifier\n",
    "from sklearn.svm import SVC\n",
    "from sklearn.naive_bayes import GaussianNB\n",
    "from sklearn.tree import DecisionTreeClassifier\n",
    "from sklearn.ensemble import RandomForestClassifier\n",
    "from sklearn.metrics import confusion_matrix\n",
    "import keras\n",
    "from keras.models import Sequential\n",
    "from keras.layers import Dense"
   ]
  },
  {
   "cell_type": "code",
   "execution_count": null,
   "metadata": {
    "collapsed": true
   },
   "outputs": [],
   "source": [
    "#importing the dataset \n",
    "dataset = pd.read_csv('C:\\Machine learning\\cancer_data\\cancer.csv')\n",
    "X = dataset.iloc[:, 1:31].values\n",
    "Y = dataset.iloc[:, 31].values\n",
    "\n",
    "dataset.head()\n",
    "\n",
    "print(\"Cancer data set dimensions : {}\".format(dataset.shape))\n",
    "\n",
    "dataset.groupby('diagnosis').size()\n",
    "\n"
   ]
  },
  {
   "cell_type": "code",
   "execution_count": null,
   "metadata": {
    "collapsed": true
   },
   "outputs": [],
   "source": [
    "#Visualization of data\n",
    "dataset.groupby('diagnosis').hist(figsize=(12, 12))\n",
    "\n",
    "dataset.isnull().sum()\n",
    "dataset.isna().sum()\n",
    "\n",
    "dataframe = pd.DataFrame(Y)\n",
    "#Encoding categorical data values \n",
    "\n",
    "labelencoder_Y = LabelEncoder()\n",
    "Y = labelencoder_Y.fit_transform(Y)\n",
    "\n",
    "\n",
    "# Splitting the dataset into the Training set and Test set\n",
    "X_train, X_test, Y_train, Y_test = train_test_split(X, Y, test_size = 0.25, random_state = 0)\n",
    "\n",
    "\n",
    "#Feature Scaling\n",
    "sc = StandardScaler()\n",
    "X_train = sc.fit_transform(X_train)\n",
    "X_test = sc.transform(X_test)"
   ]
  },
  {
   "cell_type": "code",
   "execution_count": null,
   "metadata": {
    "collapsed": true
   },
   "outputs": [],
   "source": [
    "#Fitting the Logistic Regression Algorithm to the Training Set\n",
    "classifier = LogisticRegression(random_state = 0)\n",
    "classifier.fit(X_train, Y_train)\n",
    "#95.8 Acuracy\n",
    "#predicting the Test set results\n",
    "Y_pred = classifier.predict(X_test)\n",
    "#Creating the confusion Matrix\n",
    "cm = confusion_matrix(Y_test, Y_pred)\n",
    "c = print(cm[0, 0] + cm[1, 1])"
   ]
  },
  {
   "cell_type": "code",
   "execution_count": null,
   "metadata": {
    "collapsed": true
   },
   "outputs": [],
   "source": [
    "#Fitting K-NN Algorithm\n",
    "classifier = KNeighborsClassifier(n_neighbors = 5, metric = 'minkowski', p = 2)\n",
    "classifier.fit(X_train, Y_train)\n",
    "#95.1 Acuracy\n",
    "#predicting the Test set results\n",
    "Y_pred = classifier.predict(X_test)\n",
    "#Creating the confusion Matrix\n",
    "cm = confusion_matrix(Y_test, Y_pred)\n",
    "c = print(cm[0, 0] + cm[1, 1])"
   ]
  },
  {
   "cell_type": "code",
   "execution_count": null,
   "metadata": {
    "collapsed": true
   },
   "outputs": [],
   "source": [
    "#Fitting SVM\n",
    "classifier = SVC(kernel = 'linear', random_state = 0)\n",
    "classifier.fit(X_train, Y_train) \n",
    "#97.2 Acuracy\n",
    "#predicting the Test set results\n",
    "Y_pred = classifier.predict(X_test)\n",
    "#Creating the confusion Matrix\n",
    "cm = confusion_matrix(Y_test, Y_pred)\n",
    "c = print(cm[0, 0] + cm[1, 1])"
   ]
  },
  {
   "cell_type": "code",
   "execution_count": null,
   "metadata": {
    "collapsed": true
   },
   "outputs": [],
   "source": [
    "#Fitting K-SVM\n",
    "classifier = SVC(kernel = 'rbf', random_state = 0)\n",
    "classifier.fit(X_train, Y_train)\n",
    "#96.5 Acuracy\n",
    "#predicting the Test set results\n",
    "Y_pred = classifier.predict(X_test)\n",
    "#Creating the confusion Matrix\n",
    "cm = confusion_matrix(Y_test, Y_pred)\n",
    "c = print(cm[0, 0] + cm[1, 1])"
   ]
  },
  {
   "cell_type": "code",
   "execution_count": null,
   "metadata": {
    "collapsed": true
   },
   "outputs": [],
   "source": [
    "#Fitting Naive_Bayes\n",
    "classifier = GaussianNB()\n",
    "classifier.fit(X_train, Y_train)\n",
    "#91.6 Acuracy\n",
    "#predicting the Test set results\n",
    "Y_pred = classifier.predict(X_test)\n",
    "#Creating the confusion Matrix\n",
    "cm = confusion_matrix(Y_test, Y_pred)\n",
    "c = print(cm[0, 0] + cm[1, 1])"
   ]
  },
  {
   "cell_type": "code",
   "execution_count": null,
   "metadata": {
    "collapsed": true
   },
   "outputs": [],
   "source": [
    "#Fitting Decision Tree Algorithm\n",
    "classifier = DecisionTreeClassifier(criterion = 'entropy', random_state = 0)\n",
    "classifier.fit(X_train, Y_train)\n",
    "#95.8 Acuracy\n",
    "#predicting the Test set results\n",
    "Y_pred = classifier.predict(X_test)\n",
    "#Creating the confusion Matrix\n",
    "cm = confusion_matrix(Y_test, Y_pred)\n",
    "c = print(cm[0, 0] + cm[1, 1])"
   ]
  },
  {
   "cell_type": "code",
   "execution_count": null,
   "metadata": {
    "collapsed": true
   },
   "outputs": [],
   "source": [
    "#Fitting Random Forest Classification Algorithm\n",
    "classifier = RandomForestClassifier(n_estimators = 10, criterion = 'entropy', random_state = 0)\n",
    "classifier.fit(X_train, Y_train)\n",
    "#98.6 Acuracy\n",
    "#predicting the Test set results\n",
    "Y_pred = classifier.predict(X_test)\n",
    "#Creating the confusion Matrix\n",
    "cm = confusion_matrix(Y_test, Y_pred)\n",
    "c = print(cm[0, 0] + cm[1, 1])"
   ]
  },
  {
   "cell_type": "code",
   "execution_count": null,
   "metadata": {
    "collapsed": true
   },
   "outputs": [],
   "source": [
    "model = Sequential()\n",
    "model.add(Dense(output_dim=15,init='uniform',activation='relu',input_dim=29))\n",
    "model.add(Dense(output_dim=15,init='uniform',activation='relu'))\n",
    "model.add(Dense(output_dim=1,init='uniform',activation='sigmoid'))\n",
    "model.compile(optimizer='adam',loss='binary_crossentropy',metrics=['accuracy'])\n",
    "model.fit(X_train, Y_train,batch_size=10,nb_epoch=100)\n",
    "Y_pred = model.predict(X_test)\n",
    "cm = confusion_matrix(Y_test, Y_pred)\n",
    "c = print(cm[0, 0] + cm[1, 1])"
   ]
  }
 ],
 "metadata": {
  "kernelspec": {
   "display_name": "Python [conda env:cogsci]",
   "language": "python",
   "name": "conda-env-cogsci-py"
  },
  "language_info": {
   "codemirror_mode": {
    "name": "ipython",
    "version": 3
   },
   "file_extension": ".py",
   "mimetype": "text/x-python",
   "name": "python",
   "nbconvert_exporter": "python",
   "pygments_lexer": "ipython3",
   "version": "3.5.2"
  }
 },
 "nbformat": 4,
 "nbformat_minor": 1
}
